{
 "cells": [
  {
   "cell_type": "markdown",
   "id": "bc20b279",
   "metadata": {},
   "source": [
    "# Analyzing Police Activity with pandas"
   ]
  },
  {
   "cell_type": "markdown",
   "id": "15ea242f",
   "metadata": {},
   "source": [
    "Preparing the data for analysis"
   ]
  },
  {
   "cell_type": "markdown",
   "id": "cf5450cb",
   "metadata": {},
   "source": [
    "Stanford Open Policing Project dataset"
   ]
  },
  {
   "cell_type": "code",
   "execution_count": 17,
   "id": "dbd3c033",
   "metadata": {},
   "outputs": [
    {
     "data": {
      "text/html": [
       "<div>\n",
       "<style scoped>\n",
       "    .dataframe tbody tr th:only-of-type {\n",
       "        vertical-align: middle;\n",
       "    }\n",
       "\n",
       "    .dataframe tbody tr th {\n",
       "        vertical-align: top;\n",
       "    }\n",
       "\n",
       "    .dataframe thead th {\n",
       "        text-align: right;\n",
       "    }\n",
       "</style>\n",
       "<table border=\"1\" class=\"dataframe\">\n",
       "  <thead>\n",
       "    <tr style=\"text-align: right;\">\n",
       "      <th></th>\n",
       "      <th>state</th>\n",
       "      <th>stop_date</th>\n",
       "      <th>stop_time</th>\n",
       "      <th>county_name</th>\n",
       "      <th>driver_gender</th>\n",
       "      <th>driver_race</th>\n",
       "      <th>violation_raw</th>\n",
       "      <th>violation</th>\n",
       "      <th>search_conducted</th>\n",
       "      <th>search_type</th>\n",
       "      <th>stop_outcome</th>\n",
       "      <th>is_arrested</th>\n",
       "      <th>stop_duration</th>\n",
       "      <th>drugs_related_stop</th>\n",
       "      <th>district</th>\n",
       "    </tr>\n",
       "  </thead>\n",
       "  <tbody>\n",
       "    <tr>\n",
       "      <th>0</th>\n",
       "      <td>RI</td>\n",
       "      <td>2005-01-04</td>\n",
       "      <td>12:55</td>\n",
       "      <td>NaN</td>\n",
       "      <td>M</td>\n",
       "      <td>White</td>\n",
       "      <td>Equipment/Inspection Violation</td>\n",
       "      <td>Equipment</td>\n",
       "      <td>False</td>\n",
       "      <td>NaN</td>\n",
       "      <td>Citation</td>\n",
       "      <td>False</td>\n",
       "      <td>0-15 Min</td>\n",
       "      <td>False</td>\n",
       "      <td>Zone X4</td>\n",
       "    </tr>\n",
       "    <tr>\n",
       "      <th>1</th>\n",
       "      <td>RI</td>\n",
       "      <td>2005-01-23</td>\n",
       "      <td>23:15</td>\n",
       "      <td>NaN</td>\n",
       "      <td>M</td>\n",
       "      <td>White</td>\n",
       "      <td>Speeding</td>\n",
       "      <td>Speeding</td>\n",
       "      <td>False</td>\n",
       "      <td>NaN</td>\n",
       "      <td>Citation</td>\n",
       "      <td>False</td>\n",
       "      <td>0-15 Min</td>\n",
       "      <td>False</td>\n",
       "      <td>Zone K3</td>\n",
       "    </tr>\n",
       "    <tr>\n",
       "      <th>2</th>\n",
       "      <td>RI</td>\n",
       "      <td>2005-02-17</td>\n",
       "      <td>04:15</td>\n",
       "      <td>NaN</td>\n",
       "      <td>M</td>\n",
       "      <td>White</td>\n",
       "      <td>Speeding</td>\n",
       "      <td>Speeding</td>\n",
       "      <td>False</td>\n",
       "      <td>NaN</td>\n",
       "      <td>Citation</td>\n",
       "      <td>False</td>\n",
       "      <td>0-15 Min</td>\n",
       "      <td>False</td>\n",
       "      <td>Zone X4</td>\n",
       "    </tr>\n",
       "  </tbody>\n",
       "</table>\n",
       "</div>"
      ],
      "text/plain": [
       "  state   stop_date stop_time  county_name driver_gender driver_race  \\\n",
       "0    RI  2005-01-04     12:55          NaN             M       White   \n",
       "1    RI  2005-01-23     23:15          NaN             M       White   \n",
       "2    RI  2005-02-17     04:15          NaN             M       White   \n",
       "\n",
       "                    violation_raw  violation  search_conducted search_type  \\\n",
       "0  Equipment/Inspection Violation  Equipment             False         NaN   \n",
       "1                        Speeding   Speeding             False         NaN   \n",
       "2                        Speeding   Speeding             False         NaN   \n",
       "\n",
       "  stop_outcome is_arrested stop_duration  drugs_related_stop district  \n",
       "0     Citation       False      0-15 Min               False  Zone X4  \n",
       "1     Citation       False      0-15 Min               False  Zone K3  \n",
       "2     Citation       False      0-15 Min               False  Zone X4  "
      ]
     },
     "execution_count": 17,
     "metadata": {},
     "output_type": "execute_result"
    }
   ],
   "source": [
    "import pandas as pd\n",
    "import numpy as np\n",
    "ri=pd.read_csv('police.csv')\n",
    "ri.head(3)"
   ]
  },
  {
   "cell_type": "code",
   "execution_count": 18,
   "id": "eba807b5",
   "metadata": {},
   "outputs": [
    {
     "data": {
      "text/plain": [
       "state                     0\n",
       "stop_date                 0\n",
       "stop_time                 0\n",
       "county_name           91741\n",
       "driver_gender          5205\n",
       "driver_race            5202\n",
       "violation_raw          5202\n",
       "violation              5202\n",
       "search_conducted          0\n",
       "search_type           88434\n",
       "stop_outcome           5202\n",
       "is_arrested            5202\n",
       "stop_duration          5202\n",
       "drugs_related_stop        0\n",
       "district                  0\n",
       "dtype: int64"
      ]
     },
     "execution_count": 18,
     "metadata": {},
     "output_type": "execute_result"
    }
   ],
   "source": [
    "ri.isnull()\n",
    "ri.isnull().sum()"
   ]
  },
  {
   "cell_type": "code",
   "execution_count": 19,
   "id": "bf7e5963",
   "metadata": {},
   "outputs": [],
   "source": [
    "ri.shape\n",
    "ri.drop('county_name',axis='columns',inplace=True)\n",
    "ri.dropna(subset=['stop_date','stop_time'],inplace=True)"
   ]
  },
  {
   "cell_type": "markdown",
   "id": "82fde6c9",
   "metadata": {},
   "source": [
    "Exploring the relationship between gender and policing\n",
    "Do the genders commit different violations?"
   ]
  },
  {
   "cell_type": "code",
   "execution_count": 20,
   "id": "14203739",
   "metadata": {},
   "outputs": [
    {
     "data": {
      "text/plain": [
       "Citation            0.902234\n",
       "Warning             0.057522\n",
       "Arrest Driver       0.024017\n",
       "No Action           0.007047\n",
       "N/D                 0.006433\n",
       "Arrest Passenger    0.002748\n",
       "Name: stop_outcome, dtype: float64"
      ]
     },
     "execution_count": 20,
     "metadata": {},
     "output_type": "execute_result"
    }
   ],
   "source": [
    "ri.stop_outcome.value_counts()\n",
    "ri.stop_outcome.value_counts().sum()\n",
    "ri.stop_outcome.value_counts(normalize=True)\n",
    "white = ri[ri.driver_race == 'White']\n",
    "white.stop_outcome.value_counts(normalize=True)"
   ]
  },
  {
   "cell_type": "markdown",
   "id": "2189c3e1",
   "metadata": {},
   "source": [
    "Does gender affect who gets a ticket for speeding?"
   ]
  },
  {
   "cell_type": "code",
   "execution_count": 21,
   "id": "748c2184",
   "metadata": {},
   "outputs": [],
   "source": [
    "female = ri[ri.driver_gender == 'F']\n",
    "female_and_arrested = ri[(ri.driver_gender == 'F') & (ri.is_arrested == True)]\n",
    "female_or_arrested = ri[(ri.driver_gender == 'F') | (ri.is_arrested == True)]"
   ]
  },
  {
   "cell_type": "markdown",
   "id": "5b0ce54d",
   "metadata": {},
   "source": [
    "Does gender affect whose vehicle is searched?"
   ]
  },
  {
   "cell_type": "code",
   "execution_count": 22,
   "id": "e70e196e",
   "metadata": {},
   "outputs": [
    {
     "data": {
      "text/plain": [
       "district  driver_gender\n",
       "Zone K1   F                0.019169\n",
       "          M                0.026588\n",
       "Zone K2   F                0.022196\n",
       "          M                0.034285\n",
       "Zone K3   F                0.025156\n",
       "          M                0.034961\n",
       "Zone X1   F                0.019646\n",
       "          M                0.024563\n",
       "Zone X3   F                0.027188\n",
       "          M                0.038166\n",
       "Zone X4   F                0.042149\n",
       "          M                0.049956\n",
       "Name: is_arrested, dtype: float64"
      ]
     },
     "execution_count": 22,
     "metadata": {},
     "output_type": "execute_result"
    }
   ],
   "source": [
    "ri.isnull().sum()\n",
    "np.mean([False,True,False,False])\n",
    "ri.is_arrested.value_counts(normalize=True)\n",
    "ri.is_arrested.mean()\n",
    "ri.is_arrested.dtype\n",
    "ri.district.unique()\n",
    "ri[ri.district == 'Zone K1'].is_arrested.mean()\n",
    "ri.groupby(['district','driver_gender']).is_arrested.mean()\n"
   ]
  },
  {
   "cell_type": "markdown",
   "id": "4094230e",
   "metadata": {},
   "source": [
    "Does gender affect who is frisked during a search?"
   ]
  },
  {
   "cell_type": "code",
   "execution_count": 24,
   "id": "54f2a21c",
   "metadata": {},
   "outputs": [
    {
     "data": {
      "text/plain": [
       "0.13335349259147264"
      ]
     },
     "execution_count": 24,
     "metadata": {},
     "output_type": "execute_result"
    }
   ],
   "source": [
    "ri.search_type.value_counts(dropna=False)\n",
    "ri['inventory'] = ri.search_type.str.contains('Inventory' , na=False)\n",
    "ri.inventory.sum()\n",
    "searched = ri[ri.search_conducted == True]\n",
    "searched.inventory.mean()"
   ]
  },
  {
   "cell_type": "markdown",
   "id": "9073dc7a",
   "metadata": {},
   "source": [
    "Visual exploratory data analysis"
   ]
  },
  {
   "cell_type": "markdown",
   "id": "4dcec54a",
   "metadata": {},
   "source": [
    "What violations are caught in each district?"
   ]
  },
  {
   "cell_type": "code",
   "execution_count": 27,
   "id": "40f2d8df",
   "metadata": {},
   "outputs": [
    {
     "data": {
      "text/plain": [
       "<AxesSubplot:xlabel='driver_race'>"
      ]
     },
     "execution_count": 27,
     "metadata": {},
     "output_type": "execute_result"
    },
    {
     "data": {
      "image/png": "[encoded data removed]",
      "text/plain": [
       "<Figure size 640x480 with 1 Axes>"
      ]
     },
     "metadata": {},
     "output_type": "display_data"
    },
    {
     "data": {
      "image/png": "[encoded data removed]",
      "text/plain": [
       "<Figure size 640x480 with 1 Axes>"
      ]
     },
     "metadata": {},
     "output_type": "display_data"
    },
    {
     "data": {
      "image/png": "[encoded data removed]",
      "text/plain": [
       "<Figure size 640x480 with 1 Axes>"
      ]
     },
     "metadata": {},
     "output_type": "display_data"
    }
   ],
   "source": [
    "table=pd.crosstab(ri.driver_race,ri.driver_gender)\n",
    "table.loc['Asian':'Hispanic']\n",
    "table.plot()\n",
    "table.plot(kind='bar')\n",
    "table.plot(kind='bar',stacked=True)"
   ]
  },
  {
   "cell_type": "markdown",
   "id": "26da1e93",
   "metadata": {},
   "source": [
    "Analyzing the effect of weather on policing\n"
   ]
  },
  {
   "cell_type": "markdown",
   "id": "c6fdfc3c",
   "metadata": {},
   "source": [
    "Exploring the weather dataset"
   ]
  },
  {
   "cell_type": "code",
   "execution_count": 30,
   "id": "1cd3cbbf",
   "metadata": {},
   "outputs": [
    {
     "data": {
      "text/plain": [
       "<AxesSubplot:>"
      ]
     },
     "execution_count": 30,
     "metadata": {},
     "output_type": "execute_result"
    },
    {
     "data": {
      "image/png": "[encoded data removed]",
      "text/plain": [
       "<Figure size 640x480 with 1 Axes>"
      ]
     },
     "metadata": {},
     "output_type": "display_data"
    }
   ],
   "source": [
    "weather=pd.read_csv('weather.csv')\n",
    "weather[['AWND','WSF2']].head()\n",
    "weather[['AWND','WSF2']].describe()\n",
    "weather[['AWND','WSF2']].plot(kind='box')"
   ]
  },
  {
   "cell_type": "markdown",
   "id": "c269d1ac",
   "metadata": {},
   "source": [
    "Categorizing the weather"
   ]
  },
  {
   "cell_type": "code",
   "execution_count": 34,
   "id": "b19e157f",
   "metadata": {},
   "outputs": [
    {
     "data": {
      "text/plain": [
       "(0, 16)"
      ]
     },
     "execution_count": 34,
     "metadata": {},
     "output_type": "execute_result"
    }
   ],
   "source": [
    "temp=weather.loc[:,'TAVG':'TMAX']\n",
    "temp.sum()\n",
    "temp.sum(axis='columns').head()\n",
    "mapping={'up':True,'down':False}\n",
    "ri['stop_length']=ri.stop_duration.map(mapping)\n",
    "ri.stop_length.memory_usage(deep=True)\n",
    "cats=pd.CategoricalDtype(['short','medium','long'],ordered=True)\n",
    "ri['stop_length']=ri.stop_length.astype(cats)\n",
    "ri[ri.stop_length >'short'].shape"
   ]
  },
  {
   "cell_type": "markdown",
   "id": "1641f65f",
   "metadata": {},
   "source": [
    "Does weather affect the arrest rate?"
   ]
  },
  {
   "cell_type": "code",
   "execution_count": 37,
   "id": "e363d7ed",
   "metadata": {},
   "outputs": [
    {
     "data": {
      "text/html": [
       "<div>\n",
       "<style scoped>\n",
       "    .dataframe tbody tr th:only-of-type {\n",
       "        vertical-align: middle;\n",
       "    }\n",
       "\n",
       "    .dataframe tbody tr th {\n",
       "        vertical-align: top;\n",
       "    }\n",
       "\n",
       "    .dataframe thead th {\n",
       "        text-align: right;\n",
       "    }\n",
       "</style>\n",
       "<table border=\"1\" class=\"dataframe\">\n",
       "  <thead>\n",
       "    <tr style=\"text-align: right;\">\n",
       "      <th>driver_gender</th>\n",
       "      <th>F</th>\n",
       "      <th>M</th>\n",
       "    </tr>\n",
       "    <tr>\n",
       "      <th>violation</th>\n",
       "      <th></th>\n",
       "      <th></th>\n",
       "    </tr>\n",
       "  </thead>\n",
       "  <tbody>\n",
       "    <tr>\n",
       "      <th>Equipment</th>\n",
       "      <td>0.039984</td>\n",
       "      <td>0.071496</td>\n",
       "    </tr>\n",
       "    <tr>\n",
       "      <th>Moving violation</th>\n",
       "      <td>0.039257</td>\n",
       "      <td>0.061524</td>\n",
       "    </tr>\n",
       "    <tr>\n",
       "      <th>Other</th>\n",
       "      <td>0.041018</td>\n",
       "      <td>0.046191</td>\n",
       "    </tr>\n",
       "    <tr>\n",
       "      <th>Registration/plates</th>\n",
       "      <td>0.054924</td>\n",
       "      <td>0.108802</td>\n",
       "    </tr>\n",
       "    <tr>\n",
       "      <th>Seat belt</th>\n",
       "      <td>0.017301</td>\n",
       "      <td>0.035119</td>\n",
       "    </tr>\n",
       "    <tr>\n",
       "      <th>Speeding</th>\n",
       "      <td>0.008309</td>\n",
       "      <td>0.027885</td>\n",
       "    </tr>\n",
       "  </tbody>\n",
       "</table>\n",
       "</div>"
      ],
      "text/plain": [
       "driver_gender               F         M\n",
       "violation                              \n",
       "Equipment            0.039984  0.071496\n",
       "Moving violation     0.039257  0.061524\n",
       "Other                0.041018  0.046191\n",
       "Registration/plates  0.054924  0.108802\n",
       "Seat belt            0.017301  0.035119\n",
       "Speeding             0.008309  0.027885"
      ]
     },
     "execution_count": 37,
     "metadata": {},
     "output_type": "execute_result"
    }
   ],
   "source": [
    "ri.search_conducted.mean()\n",
    "ri.groupby('driver_gender').search_conducted.mean()\n",
    "search_rate=ri.groupby(['violation','driver_gender']).search_conducted.mean()\n",
    "search_rate.loc['Equipment']\n",
    "search_rate.loc['Equipment','M']\n",
    "search_rate.unstack()\n",
    "ri.pivot_table(index='violation',columns='driver_gender',values='search_conducted')"
   ]
  },
  {
   "cell_type": "code",
   "execution_count": null,
   "id": "b60ebc77",
   "metadata": {},
   "outputs": [],
   "source": []
  }
 ],
 "metadata": {
  "kernelspec": {
   "display_name": "Python 3 (ipykernel)",
   "language": "python",
   "name": "python3"
  },
  "language_info": {
   "codemirror_mode": {
    "name": "ipython",
    "version": 3
   },
   "file_extension": ".py",
   "mimetype": "text/x-python",
   "name": "python",
   "nbconvert_exporter": "python",
   "pygments_lexer": "ipython3",
   "version": "3.9.13"
  }
 },
 "nbformat": 4,
 "nbformat_minor": 5
}
